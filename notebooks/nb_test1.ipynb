{
 "cells": [
  {
   "metadata": {},
   "cell_type": "markdown",
   "source": "# Notebook to test, explore and debug the code\n",
   "id": "733fab864b40cc1b"
  },
  {
   "metadata": {
    "ExecuteTime": {
     "end_time": "2025-05-07T15:35:16.917484Z",
     "start_time": "2025-05-07T15:35:15.702333Z"
    }
   },
   "cell_type": "code",
   "source": [
    "# test for\n",
    "import os\n",
    "os.environ[\"KMP_DUPLICATE_LIB_OK\"]=\"TRUE\"\n",
    "import torch\n",
    "print(torch.__version__)"
   ],
   "id": "a6961a194a3ed039",
   "outputs": [
    {
     "name": "stdout",
     "output_type": "stream",
     "text": [
      "2.3.1\n"
     ]
    }
   ],
   "execution_count": 1
  }
 ],
 "metadata": {
  "kernelspec": {
   "display_name": "Python 3",
   "language": "python",
   "name": "python3"
  },
  "language_info": {
   "codemirror_mode": {
    "name": "ipython",
    "version": 2
   },
   "file_extension": ".py",
   "mimetype": "text/x-python",
   "name": "python",
   "nbconvert_exporter": "python",
   "pygments_lexer": "ipython2",
   "version": "2.7.6"
  }
 },
 "nbformat": 4,
 "nbformat_minor": 5
}
