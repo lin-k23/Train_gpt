{
 "cells": [
  {
   "metadata": {},
   "cell_type": "markdown",
   "source": "# Notebook to test, explore and debug the code\n",
   "id": "733fab864b40cc1b"
  },
  {
   "metadata": {},
   "cell_type": "markdown",
   "source": "## Test for importing libraries",
   "id": "17ff7a3f8e4f922d"
  },
  {
   "metadata": {
    "ExecuteTime": {
     "end_time": "2025-05-08T07:04:48.943557Z",
     "start_time": "2025-05-08T07:04:47.303166Z"
    }
   },
   "cell_type": "code",
   "source": [
    "import torch\n",
    "print(torch.__version__)"
   ],
   "id": "a6961a194a3ed039",
   "outputs": [
    {
     "name": "stdout",
     "output_type": "stream",
     "text": [
      "2.7.0+cu126\n"
     ]
    }
   ],
   "execution_count": 1
  },
  {
   "metadata": {},
   "cell_type": "code",
   "outputs": [],
   "execution_count": null,
   "source": "",
   "id": "a78f19310a3dd206"
  }
 ],
 "metadata": {
  "kernelspec": {
   "display_name": "Python 3",
   "language": "python",
   "name": "python3"
  },
  "language_info": {
   "codemirror_mode": {
    "name": "ipython",
    "version": 2
   },
   "file_extension": ".py",
   "mimetype": "text/x-python",
   "name": "python",
   "nbconvert_exporter": "python",
   "pygments_lexer": "ipython2",
   "version": "2.7.6"
  }
 },
 "nbformat": 4,
 "nbformat_minor": 5
}
